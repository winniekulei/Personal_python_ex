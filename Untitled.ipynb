{
 "cells": [
  {
   "cell_type": "code",
   "execution_count": 16,
   "metadata": {},
   "outputs": [
    {
     "name": "stdout",
     "output_type": "stream",
     "text": [
      "Requirement already satisfied: sympy in /home/aimsg/.local/lib/python3.7/site-packages (1.5.1)\r\n",
      "Requirement already satisfied: mpmath>=0.19 in /home/aimsg/.local/lib/python3.7/site-packages (from sympy) (1.1.0)\r\n"
     ]
    }
   ],
   "source": [
    "!pip3 install sympy\n"
   ]
  },
  {
   "cell_type": "code",
   "execution_count": 17,
   "metadata": {},
   "outputs": [],
   "source": [
    "import sympy as sp"
   ]
  },
  {
   "cell_type": "code",
   "execution_count": 52,
   "metadata": {},
   "outputs": [],
   "source": [
    "from sympy.interactive import printing\n",
    "printing.init_printing(use_latex=True)"
   ]
  },
  {
   "cell_type": "code",
   "execution_count": 18,
   "metadata": {},
   "outputs": [],
   "source": [
    "S,I,R= sp.symbols('S,I,R')\n",
    "mu, beta,gamma,epsilon,N= sp.symbols('mu, beta,gamma,epsilon,N')"
   ]
  },
  {
   "cell_type": "code",
   "execution_count": 43,
   "metadata": {},
   "outputs": [
    {
     "data": {
      "text/latex": [
       "$\\displaystyle - I S \\beta + \\epsilon \\left(- I + N - S\\right)$"
      ],
      "text/plain": [
       "-I*S*beta + epsilon*(-I + N - S)"
      ]
     },
     "execution_count": 43,
     "metadata": {},
     "output_type": "execute_result"
    }
   ],
   "source": [
    "Sdot = (- beta*S*I)+ epsilon*(N-S-I)\n",
    "Sdot"
   ]
  },
  {
   "cell_type": "code",
   "execution_count": 44,
   "metadata": {},
   "outputs": [
    {
     "data": {
      "text/latex": [
       "$\\displaystyle I S \\beta - I \\gamma$"
      ],
      "text/plain": [
       "I*S*beta - I*gamma"
      ]
     },
     "execution_count": 44,
     "metadata": {},
     "output_type": "execute_result"
    }
   ],
   "source": [
    "Idot = beta*S*I -gamma*I\n",
    "Idot"
   ]
  },
  {
   "cell_type": "code",
   "execution_count": 45,
   "metadata": {},
   "outputs": [],
   "source": [
    "SEq = sp.Eq(Sdot,0)\n",
    "IEq = sp.Eq(Idot,0)"
   ]
  },
  {
   "cell_type": "markdown",
   "metadata": {},
   "source": [
    "# compute fixed points"
   ]
  },
  {
   "cell_type": "code",
   "execution_count": 73,
   "metadata": {},
   "outputs": [
    {
     "data": {
      "text/plain": [
       "'The equilibrium points are [(N, 0), (-(-N*epsilon + epsilon*(N*beta - gamma)/beta)/epsilon, epsilon*(N*beta - gamma)/(beta*(epsilon + gamma)))]'"
      ]
     },
     "metadata": {},
     "output_type": "display_data"
    }
   ],
   "source": [
    "equilibria = sp.solve( (SEq,IEq), S,I )\n",
    "display('The equilibrium points are %s' %equilibria)"
   ]
  },
  {
   "cell_type": "markdown",
   "metadata": {},
   "source": [
    "#Disease free equilibrium point"
   ]
  },
  {
   "cell_type": "code",
   "execution_count": 60,
   "metadata": {},
   "outputs": [
    {
     "data": {
      "image/png": "[encoded data removed]",
      "text/latex": [
       "$\\displaystyle \\left[ N, \\  0\\right]$"
      ],
      "text/plain": [
       "[N, 0]"
      ]
     },
     "execution_count": 60,
     "metadata": {},
     "output_type": "execute_result"
    }
   ],
   "source": [
    "[N,0]"
   ]
  },
  {
   "cell_type": "markdown",
   "metadata": {},
   "source": [
    "#Endemic equilibrium point"
   ]
  },
  {
   "cell_type": "code",
   "execution_count": 63,
   "metadata": {},
   "outputs": [
    {
     "data": {
      "image/png": "[encoded data removed]",
      "text/latex": [
       "$\\displaystyle \\frac{\\gamma}{\\beta}$"
      ],
      "text/plain": [
       "γ\n",
       "─\n",
       "β"
      ]
     },
     "execution_count": 63,
     "metadata": {},
     "output_type": "execute_result"
    }
   ],
   "source": [
    "a=sp.simplify((-(-N*epsilon + epsilon*(N*beta - gamma)/beta)/epsilon))\n",
    "a"
   ]
  },
  {
   "cell_type": "code",
   "execution_count": 64,
   "metadata": {},
   "outputs": [
    {
     "data": {
      "image/png": "[encoded data removed]",
      "text/latex": [
       "$\\displaystyle \\frac{\\epsilon \\left(N \\beta - \\gamma\\right)}{\\beta \\left(\\epsilon + \\gamma\\right)}$"
      ],
      "text/plain": [
       "ε⋅(N⋅β - γ)\n",
       "───────────\n",
       " β⋅(ε + γ) "
      ]
     },
     "execution_count": 64,
     "metadata": {},
     "output_type": "execute_result"
    }
   ],
   "source": [
    "b=sp.simplify(epsilon*(N*beta - gamma)/(beta*(epsilon + gamma)))\n",
    "b"
   ]
  },
  {
   "cell_type": "code",
   "execution_count": 65,
   "metadata": {},
   "outputs": [
    {
     "data": {
      "image/png": "[encoded data removed]",
      "text/latex": [
       "$\\displaystyle \\left[ \\frac{\\gamma}{\\beta}, \\  \\frac{\\epsilon \\left(N \\beta - \\gamma\\right)}{\\beta \\left(\\epsilon + \\gamma\\right)}\\right]$"
      ],
      "text/plain": [
       "⎡γ  ε⋅(N⋅β - γ)⎤\n",
       "⎢─, ───────────⎥\n",
       "⎣β   β⋅(ε + γ) ⎦"
      ]
     },
     "execution_count": 65,
     "metadata": {},
     "output_type": "execute_result"
    }
   ],
   "source": [
    "[a,b]"
   ]
  },
  {
   "cell_type": "markdown",
   "metadata": {},
   "source": [
    "# put equations into matrix-form and compute Jacobian-matrix  "
   ]
  },
  {
   "cell_type": "code",
   "execution_count": 69,
   "metadata": {},
   "outputs": [
    {
     "name": "stdout",
     "output_type": "stream",
     "text": [
      "Jacobian Matrix([[-I*beta - epsilon, -S*beta - epsilon], [I*beta, S*beta - gamma]])\n",
      "---------------------\n"
     ]
    }
   ],
   "source": [
    "eqMat = sp.Matrix([ Sdot, Idot ])\n",
    "Mat = sp.Matrix([ S,I])\n",
    "jacMat = eqMat.jacobian(Mat)\n",
    "print('Jacobian %s' % jacMat)\n",
    "print('---------------------')\n"
   ]
  },
  {
   "cell_type": "markdown",
   "metadata": {},
   "source": [
    "# iterate through list of equilibria"
   ]
  },
  {
   "cell_type": "code",
   "execution_count": 71,
   "metadata": {},
   "outputs": [
    {
     "name": "stdout",
     "output_type": "stream",
     "text": [
      "The eigenvalues for the fixed point (N, 0) are -epsilon and N*beta - gamma:\n",
      "-------------------------------------------\n",
      "The eigenvalues for the fixed point (-(-N*epsilon + epsilon*(N*beta - gamma)/beta)/epsilon, epsilon*(N*beta - gamma)/(beta*(epsilon + gamma))) are -epsilon*(N*beta + epsilon)/(2*(epsilon + gamma)) - sqrt(epsilon*(N**2*beta**2*epsilon - 2*N*beta*epsilon**2 - 8*N*beta*epsilon*gamma - 4*N*beta*gamma**2 + epsilon**3 + 4*epsilon**2*gamma + 8*epsilon*gamma**2 + 4*gamma**3))/(2*(epsilon + gamma)) and -epsilon*(N*beta + epsilon)/(2*(epsilon + gamma)) + sqrt(epsilon*(N**2*beta**2*epsilon - 2*N*beta*epsilon**2 - 8*N*beta*epsilon*gamma - 4*N*beta*gamma**2 + epsilon**3 + 4*epsilon**2*gamma + 8*epsilon*gamma**2 + 4*gamma**3))/(2*(epsilon + gamma)):\n",
      "-------------------------------------------\n"
     ]
    }
   ],
   "source": [
    "\n",
    "for item in equilibria:\n",
    "    eqmat = jacMat.subs([ (S, item[0]), (I, item[1]) ])\n",
    "    eigenvals = list(eqmat.eigenvals().keys())\n",
    "    print('The eigenvalues for the fixed point (%s, %s) are %s and %s:' \n",
    "          %(item[0], item[1], eigenvals[0],eigenvals[1]))\n",
    "    print('-------------------------------------------')  "
   ]
  },
  {
   "cell_type": "code",
   "execution_count": 75,
   "metadata": {},
   "outputs": [
    {
     "data": {
      "image/png": "[encoded data removed]",
      "text/latex": [
       "$\\displaystyle \\left( N, \\  0, \\  - \\epsilon, \\  N \\beta - \\gamma\\right)$"
      ],
      "text/plain": [
       "(N, 0, -ε, N⋅β - γ)"
      ]
     },
     "metadata": {},
     "output_type": "display_data"
    },
    {
     "name": "stdout",
     "output_type": "stream",
     "text": [
      "-------------------------------------------\n"
     ]
    },
    {
     "data": {
      "image/png": "[encoded data removed]",
      "text/latex": [
       "$\\displaystyle \\left( - \\frac{- N \\epsilon + \\frac{\\epsilon \\left(N \\beta - \\gamma\\right)}{\\beta}}{\\epsilon}, \\  \\frac{\\epsilon \\left(N \\beta - \\gamma\\right)}{\\beta \\left(\\epsilon + \\gamma\\right)}, \\  - \\frac{\\epsilon \\left(N \\beta + \\epsilon\\right)}{2 \\left(\\epsilon + \\gamma\\right)} - \\frac{\\sqrt{\\epsilon \\left(N^{2} \\beta^{2} \\epsilon - 2 N \\beta \\epsilon^{2} - 8 N \\beta \\epsilon \\gamma - 4 N \\beta \\gamma^{2} + \\epsilon^{3} + 4 \\epsilon^{2} \\gamma + 8 \\epsilon \\gamma^{2} + 4 \\gamma^{3}\\right)}}{2 \\left(\\epsilon + \\gamma\\right)}, \\  - \\frac{\\epsilon \\left(N \\beta + \\epsilon\\right)}{2 \\left(\\epsilon + \\gamma\\right)} + \\frac{\\sqrt{\\epsilon \\left(N^{2} \\beta^{2} \\epsilon - 2 N \\beta \\epsilon^{2} - 8 N \\beta \\epsilon \\gamma - 4 N \\beta \\gamma^{2} + \\epsilon^{3} + 4 \\epsilon^{2} \\gamma + 8 \\epsilon \\gamma^{2} + 4 \\gamma^{3}\\right)}}{2 \\left(\\epsilon + \\gamma\\right)}\\right)$"
      ],
      "text/plain": [
       "⎛ ⎛       ε⋅(N⋅β - γ)⎞                                   _____________________\n",
       "⎜-⎜-N⋅ε + ───────────⎟                                  ╱   ⎛ 2  2            \n",
       "⎜ ⎝            β     ⎠   ε⋅(N⋅β - γ)    ε⋅(N⋅β + ε)   ╲╱  ε⋅⎝N ⋅β ⋅ε - 2⋅N⋅β⋅ε\n",
       "⎜──────────────────────, ───────────, - ─────────── - ────────────────────────\n",
       "⎝          ε              β⋅(ε + γ)      2⋅(ε + γ)                            \n",
       "\n",
       "________________________________________________________                     _\n",
       "2                      2    3      2          2      3⎞                     ╱ \n",
       "  - 8⋅N⋅β⋅ε⋅γ - 4⋅N⋅β⋅γ  + ε  + 4⋅ε ⋅γ + 8⋅ε⋅γ  + 4⋅γ ⎠     ε⋅(N⋅β + ε)   ╲╱  \n",
       "────────────────────────────────────────────────────────, - ─────────── + ────\n",
       "           2⋅(ε + γ)                                         2⋅(ε + γ)        \n",
       "\n",
       "____________________________________________________________________________⎞\n",
       "  ⎛ 2  2            2                      2    3      2          2      3⎞ ⎟\n",
       "ε⋅⎝N ⋅β ⋅ε - 2⋅N⋅β⋅ε  - 8⋅N⋅β⋅ε⋅γ - 4⋅N⋅β⋅γ  + ε  + 4⋅ε ⋅γ + 8⋅ε⋅γ  + 4⋅γ ⎠ ⎟\n",
       "────────────────────────────────────────────────────────────────────────────⎟\n",
       "                               2⋅(ε + γ)                                    ⎠"
      ]
     },
     "metadata": {},
     "output_type": "display_data"
    },
    {
     "name": "stdout",
     "output_type": "stream",
     "text": [
      "-------------------------------------------\n"
     ]
    }
   ],
   "source": [
    "for item in equilibria:\n",
    "    eqmat = jacMat.subs([ (S, item[0]), (I, item[1]) ])\n",
    "    eigenvals = list(eqmat.eigenvals().keys())\n",
    "    display((item[0], item[1], eigenvals[0],eigenvals[1]))\n",
    "    print('-------------------------------------------')  "
   ]
  },
  {
   "cell_type": "code",
   "execution_count": null,
   "metadata": {},
   "outputs": [],
   "source": []
  }
 ],
 "metadata": {
  "kernelspec": {
   "display_name": "Python 3",
   "language": "python",
   "name": "python3"
  },
  "language_info": {
   "codemirror_mode": {
    "name": "ipython",
    "version": 3
   },
   "file_extension": ".py",
   "mimetype": "text/x-python",
   "name": "python",
   "nbconvert_exporter": "python",
   "pygments_lexer": "ipython3",
   "version": "3.7.3"
  }
 },
 "nbformat": 4,
 "nbformat_minor": 2
}
