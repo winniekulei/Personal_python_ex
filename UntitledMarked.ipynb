{
 "cells": [
  {
   "cell_type": "markdown",
   "metadata": {},
   "source": [
    "# Winnie J Kulei - Epidemiology"
   ]
  },
  {
   "cell_type": "markdown",
   "metadata": {},
   "source": [
    "### <font color=\"red\"> Good. See some comments on your pdf file."
   ]
  },
  {
   "cell_type": "markdown",
   "metadata": {},
   "source": [
    "!pip3 install sympy\n"
   ]
  },
  {
   "cell_type": "code",
   "execution_count": 58,
   "metadata": {
    "collapsed": true
   },
   "outputs": [],
   "source": [
    "import matplotlib.pyplot as plt\n",
    "import numpy as np\n",
    "import sympy as sp"
   ]
  },
  {
   "cell_type": "code",
   "execution_count": 59,
   "metadata": {
    "collapsed": true
   },
   "outputs": [],
   "source": [
    "from sympy.interactive import printing\n",
    "printing.init_printing(use_latex=True)"
   ]
  },
  {
   "cell_type": "code",
   "execution_count": 60,
   "metadata": {
    "collapsed": true
   },
   "outputs": [],
   "source": [
    "S,I,R= sp.symbols('S,I,R')\n",
    "mu, beta,gamma,epsilon,N= sp.symbols('mu, beta,gamma,epsilon,N')"
   ]
  },
  {
   "cell_type": "code",
   "execution_count": 61,
   "metadata": {
    "collapsed": false
   },
   "outputs": [
    {
     "data": {
      "image/png": "[encoded data removed]",
      "text/latex": [
       "$\\displaystyle - I S \\beta + \\epsilon \\left(- I + N - S\\right)$"
      ],
      "text/plain": [
       "-I⋅S⋅β + ε⋅(-I + N - S)"
      ]
     },
     "execution_count": 61,
     "metadata": {},
     "output_type": "execute_result"
    }
   ],
   "source": [
    "Sdot = (- beta*S*I)+ epsilon*(N-S-I)\n",
    "Sdot"
   ]
  },
  {
   "cell_type": "code",
   "execution_count": 62,
   "metadata": {
    "collapsed": false
   },
   "outputs": [
    {
     "data": {
      "image/png": "[encoded data removed]",
      "text/latex": [
       "$\\displaystyle I S \\beta - I \\gamma$"
      ],
      "text/plain": [
       "I⋅S⋅β - I⋅γ"
      ]
     },
     "execution_count": 62,
     "metadata": {},
     "output_type": "execute_result"
    }
   ],
   "source": [
    "Idot = beta*S*I -gamma*I\n",
    "Idot"
   ]
  },
  {
   "cell_type": "code",
   "execution_count": 63,
   "metadata": {
    "collapsed": true
   },
   "outputs": [],
   "source": [
    "SEq = sp.Eq(Sdot,0)\n",
    "IEq = sp.Eq(Idot,0)"
   ]
  },
  {
   "cell_type": "markdown",
   "metadata": {},
   "source": [
    "# Determining our fixed points"
   ]
  },
  {
   "cell_type": "code",
   "execution_count": 67,
   "metadata": {
    "collapsed": false
   },
   "outputs": [
    {
     "name": "stdout",
     "output_type": "stream",
     "text": [
      "[(N, 0), (-(-N*epsilon + epsilon*(N*beta - gamma)/beta)/epsilon, epsilon*(N*beta - gamma)/(beta*(epsilon + gamma)))]\n"
     ]
    }
   ],
   "source": [
    "equilibria = sp.solve( (SEq,IEq), S,I )\n",
    "print(equilibria)"
   ]
  },
  {
   "cell_type": "markdown",
   "metadata": {},
   "source": [
    "#Disease free equilibrium point"
   ]
  },
  {
   "cell_type": "code",
   "execution_count": 68,
   "metadata": {
    "collapsed": false
   },
   "outputs": [
    {
     "data": {
      "image/png": "[encoded data removed]",
      "text/latex": [
       "$\\displaystyle \\left[ N, \\  0\\right]$"
      ],
      "text/plain": [
       "[N, 0]"
      ]
     },
     "execution_count": 68,
     "metadata": {},
     "output_type": "execute_result"
    }
   ],
   "source": [
    "[N,0]"
   ]
  },
  {
   "cell_type": "markdown",
   "metadata": {},
   "source": [
    "#Endemic equilibrium point"
   ]
  },
  {
   "cell_type": "code",
   "execution_count": 69,
   "metadata": {
    "collapsed": false
   },
   "outputs": [
    {
     "data": {
      "image/png": "[encoded data removed]",
      "text/latex": [
       "$\\displaystyle \\frac{\\gamma}{\\beta}$"
      ],
      "text/plain": [
       "γ\n",
       "─\n",
       "β"
      ]
     },
     "execution_count": 69,
     "metadata": {},
     "output_type": "execute_result"
    }
   ],
   "source": [
    "a=sp.simplify((-(-N*epsilon + epsilon*(N*beta - gamma)/beta)/epsilon))\n",
    "a"
   ]
  },
  {
   "cell_type": "code",
   "execution_count": 70,
   "metadata": {
    "collapsed": false
   },
   "outputs": [
    {
     "data": {
      "image/png": "[encoded data removed]",
      "text/latex": [
       "$\\displaystyle \\frac{\\epsilon \\left(N \\beta - \\gamma\\right)}{\\beta \\left(\\epsilon + \\gamma\\right)}$"
      ],
      "text/plain": [
       "ε⋅(N⋅β - γ)\n",
       "───────────\n",
       " β⋅(ε + γ) "
      ]
     },
     "execution_count": 70,
     "metadata": {},
     "output_type": "execute_result"
    }
   ],
   "source": [
    "b=sp.simplify(epsilon*(N*beta - gamma)/(beta*(epsilon + gamma)))\n",
    "b"
   ]
  },
  {
   "cell_type": "code",
   "execution_count": 71,
   "metadata": {
    "collapsed": false
   },
   "outputs": [
    {
     "data": {
      "image/png": "[encoded data removed]",
      "text/latex": [
       "$\\displaystyle \\left[ \\frac{\\gamma}{\\beta}, \\  \\frac{\\epsilon \\left(N \\beta - \\gamma\\right)}{\\beta \\left(\\epsilon + \\gamma\\right)}\\right]$"
      ],
      "text/plain": [
       "⎡γ  ε⋅(N⋅β - γ)⎤\n",
       "⎢─, ───────────⎥\n",
       "⎣β   β⋅(ε + γ) ⎦"
      ]
     },
     "execution_count": 71,
     "metadata": {},
     "output_type": "execute_result"
    }
   ],
   "source": [
    "[a,b]"
   ]
  },
  {
   "cell_type": "markdown",
   "metadata": {},
   "source": [
    "# Creating the Jacobian Matrix  "
   ]
  },
  {
   "cell_type": "code",
   "execution_count": 74,
   "metadata": {
    "collapsed": false
   },
   "outputs": [
    {
     "name": "stdout",
     "output_type": "stream",
     "text": [
      "Matrix([[-I*beta - epsilon, -S*beta - epsilon], [I*beta, S*beta - gamma]])\n"
     ]
    }
   ],
   "source": [
    "Matrix = sp.Matrix([ Sdot, Idot ])\n",
    "Mat = sp.Matrix([ S,I])\n",
    "jacobian = Matrix.jacobian(Mat)\n",
    "print( jacobian)"
   ]
  },
  {
   "cell_type": "markdown",
   "metadata": {},
   "source": [
    "# Performing Iterations."
   ]
  },
  {
   "cell_type": "code",
   "execution_count": 75,
   "metadata": {
    "collapsed": false
   },
   "outputs": [
    {
     "name": "stdout",
     "output_type": "stream",
     "text": [
      "(N, 0, -epsilon, N*beta - gamma)\n",
      "(-(-N*epsilon + epsilon*(N*beta - gamma)/beta)/epsilon, epsilon*(N*beta - gamma)/(beta*(epsilon + gamma)), -epsilon*(N*beta + epsilon)/(2*(epsilon + gamma)) - sqrt(epsilon*(N**2*beta**2*epsilon - 2*N*beta*epsilon**2 - 8*N*beta*epsilon*gamma - 4*N*beta*gamma**2 + epsilon**3 + 4*epsilon**2*gamma + 8*epsilon*gamma**2 + 4*gamma**3))/(2*(epsilon + gamma)), -epsilon*(N*beta + epsilon)/(2*(epsilon + gamma)) + sqrt(epsilon*(N**2*beta**2*epsilon - 2*N*beta*epsilon**2 - 8*N*beta*epsilon*gamma - 4*N*beta*gamma**2 + epsilon**3 + 4*epsilon**2*gamma + 8*epsilon*gamma**2 + 4*gamma**3))/(2*(epsilon + gamma)))\n"
     ]
    }
   ],
   "source": [
    "#Finding the jacobian matrix.\n",
    "for item in equilibria:\n",
    "    Matrix = jacobian.subs([ (S, item[0]), (I, item[1]) ])\n",
    "    eigenvals = list(Matrix.eigenvals().keys())\n",
    "    print((item[0], item[1], eigenvals[0],eigenvals[1]))"
   ]
  },
  {
   "cell_type": "markdown",
   "metadata": {},
   "source": [
    "# QUESTION 2"
   ]
  },
  {
   "cell_type": "code",
   "execution_count": 51,
   "metadata": {
    "collapsed": true
   },
   "outputs": [],
   "source": [
    "# import required libraries\n",
    "%matplotlib inline\n",
    "import matplotlib.pyplot as plt\n",
    "import numpy as np"
   ]
  },
  {
   "cell_type": "markdown",
   "metadata": {},
   "source": [
    "# Question 2(d)."
   ]
  },
  {
   "cell_type": "code",
   "execution_count": 77,
   "metadata": {
    "collapsed": false
   },
   "outputs": [
    {
     "data": {
      "image/png": "[encoded data removed]",
      "text/plain": [
       "<Figure size 432x288 with 1 Axes>"
      ]
     },
     "metadata": {
      "needs_background": "light"
     },
     "output_type": "display_data"
    }
   ],
   "source": [
    "#Defining given parameters\n",
    "beta= 4.0; gamma=1.6; mu=2\n",
    "\n",
    "#The differential equations system.\n",
    "def derivative_S(S,I):\n",
    "    return mu - beta*S*I + gamma*I - mu*S\n",
    "def derivative_I(S,I):\n",
    "    return beta*S*I - gamma*I - mu*I\n",
    "\n",
    "#Initializing the lists containing our values\n",
    "S = []\n",
    "I = []\n",
    "t = []\n",
    "\n",
    "\n",
    "#iv1, iv2 = initial values, dt = timestep, time = range\n",
    "def sys(InitialV_1,InitialV_2, dt, time):\n",
    "\t# initial values:\n",
    "\tt.append(0)\n",
    "\tS.append(InitialV_1)\n",
    "\tI.append(InitialV_2)\n",
    "\n",
    "\t# compute and fill lists\n",
    "\tfor i in range(time):\n",
    "\t\tt.append((i+1)*dt)\n",
    "\t\tS.append(S[i] + (deri_S(S[i],I[i])) * dt)\n",
    "\t\tI.append(I[i] + (deri_I(S[i],I[i])) * dt)\n",
    "\treturn t,S,I\n",
    "\n",
    "sys(0.2, 0.8, 0.2, 1000)\n",
    "plt.plot(S,I, color=\"red\")\n",
    "S = []\n",
    "I = []\n",
    "t = []\n",
    "sys(0.4, 0.6, 0.2, 1000)\n",
    "plt.plot(S,I, color=\"pink\")\n",
    "S = []\n",
    "I = []\n",
    "t = []\n",
    "sys(0.6, 0.4, 0.2, 1000)\n",
    "plt.plot(S,I, color=\"green\")\n",
    "S = []\n",
    "I = []\n",
    "t = []\n",
    "sys(0.8, 0.2, 0.2, 1000)\n",
    "plt.plot(S,I, color=\"orange\")\n",
    "\n",
    "plt.xlabel(\"S\")\n",
    "plt.ylabel(\"I\")  \n",
    "plt.title(\"i(t) versus s(t)\")\n",
    "plt.grid()\n",
    "plt.show()\n",
    "\n"
   ]
  },
  {
   "cell_type": "markdown",
   "metadata": {},
   "source": [
    "# Question 2(e)."
   ]
  },
  {
   "cell_type": "code",
   "execution_count": 76,
   "metadata": {
    "collapsed": false
   },
   "outputs": [
    {
     "data": {
      "image/png": "[encoded data removed]",
      "text/plain": [
       "<Figure size 432x288 with 1 Axes>"
      ]
     },
     "metadata": {
      "needs_background": "light"
     },
     "output_type": "display_data"
    }
   ],
   "source": [
    "#Defining parameters\n",
    "beta= 4.0; gamma=2.5; mu=2\n",
    "\n",
    "#The differential equations system.\n",
    "def derivative_S(S,I):\n",
    "    return mu - beta*S*I + gamma*I - mu*S\n",
    "def derivative_I(S,I):\n",
    "    return beta*S*I - gamma*I - mu*I\n",
    "\n",
    "#Initializing the lists containing our values\n",
    "S = []\n",
    "I = []\n",
    "t = []\n",
    "\n",
    "\n",
    "#iv1, iv2 = initial values, dt = timestep, time = range\n",
    "def sys(InitialV_1,InitialV_2, dt, time):\n",
    "\t# initial values:\n",
    "\tt.append(0)\n",
    "\tS.append(InitialV_1)\n",
    "\tI.append(InitialV_2)\n",
    "\n",
    "\t# compute and fill lists\n",
    "\tfor i in range(time):\n",
    "\t\tt.append((i+1)*dt)\n",
    "\t\tS.append(S[i] + (deri_S(S[i],I[i])) * dt)\n",
    "\t\tI.append(I[i] + (deri_I(S[i],I[i])) * dt)\n",
    "\treturn t,S,I\n",
    "\n",
    "sys(0.2, 0.8, 0.2, 1000)\n",
    "plt.plot(S,I, color=\"red\")\n",
    "S = []\n",
    "I = []\n",
    "t = []\n",
    "sys(0.4, 0.6, 0.2, 1000)\n",
    "plt.plot(S,I, color=\"pink\")\n",
    "S = []\n",
    "I = []\n",
    "t = []\n",
    "sys(0.6, 0.4, 0.2, 1000)\n",
    "plt.plot(S,I, color=\"green\")\n",
    "S = []\n",
    "I = []\n",
    "t = []\n",
    "sys(0.8, 0.2, 0.2, 1000)\n",
    "plt.plot(S,I, color=\"orange\")\n",
    "\n",
    "plt.xlabel(\"S\")\n",
    "plt.ylabel(\"I\")  \n",
    "plt.title(\"i(t) versus s(t)\")\n",
    "plt.grid()\n",
    "plt.show()\n",
    "\n"
   ]
  },
  {
   "cell_type": "code",
   "execution_count": null,
   "metadata": {
    "collapsed": true
   },
   "outputs": [],
   "source": []
  },
  {
   "cell_type": "code",
   "execution_count": null,
   "metadata": {
    "collapsed": true
   },
   "outputs": [],
   "source": []
  },
  {
   "cell_type": "code",
   "execution_count": null,
   "metadata": {
    "collapsed": true
   },
   "outputs": [],
   "source": []
  },
  {
   "cell_type": "code",
   "execution_count": null,
   "metadata": {
    "collapsed": true
   },
   "outputs": [],
   "source": []
  }
 ],
 "metadata": {
  "kernelspec": {
   "display_name": "Python 3",
   "language": "python",
   "name": "python3"
  },
  "language_info": {
   "codemirror_mode": {
    "name": "ipython",
    "version": 3
   },
   "file_extension": ".py",
   "mimetype": "text/x-python",
   "name": "python",
   "nbconvert_exporter": "python",
   "pygments_lexer": "ipython3",
   "version": "3.5.3"
  }
 },
 "nbformat": 4,
 "nbformat_minor": 2
}
